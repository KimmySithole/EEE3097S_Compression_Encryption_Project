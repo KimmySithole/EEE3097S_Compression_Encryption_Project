{
 "cells": [
  {
   "cell_type": "code",
   "execution_count": 10,
   "metadata": {},
   "outputs": [
    {
     "name": "stdout",
     "output_type": "stream",
     "text": [
      "Requirement already satisfied: pycryptodomex in c:\\users\\matshego\\anaconda3\\lib\\site-packages (3.15.0)\n"
     ]
    }
   ],
   "source": [
    "import sys\n",
    "!{sys.executable} -m pip install pycryptodomex"
   ]
  },
  {
   "cell_type": "markdown",
   "metadata": {},
   "source": [
    "This code actually works looks like well be using this "
   ]
  },
  {
   "cell_type": "code",
   "execution_count": 1,
   "metadata": {},
   "outputs": [],
   "source": [
    "from hashlib import md5\n",
    "from Cryptodome.Cipher import AES\n",
    "from os import urandom\n",
    "\n",
    "def derive_key_and_iv(password, salt, key_length, iv_length): #derive key and IV from password and salt.\n",
    "    d = d_i = b''\n",
    "    while len(d) < key_length + iv_length:\n",
    "        d_i = md5(d_i + str.encode(password) + salt).digest() #obtain the md5 hash value\n",
    "        d += d_i\n",
    "    return d[:key_length], d[key_length:key_length+iv_length]\n",
    "\n",
    "def encrypt(in_file, out_file, password, key_length=32):\n",
    "    bs = AES.block_size #16 bytes\n",
    "    salt = urandom(bs) #return a string of random bytes\n",
    "    key, iv = derive_key_and_iv(password, salt, key_length, bs)\n",
    "    cipher = AES.new(key, AES.MODE_CBC, iv)\n",
    "    out_file.write(salt)\n",
    "    finished = False\n",
    "\n",
    "    while not finished:\n",
    "        chunk = in_file.read(1024 * bs) \n",
    "        if len(chunk) == 0 or len(chunk) % bs != 0:#final block/chunk is padded before encryption\n",
    "            padding_length = (bs - len(chunk) % bs) or bs\n",
    "            chunk += str.encode(padding_length * chr(padding_length))\n",
    "            finished = True\n",
    "        out_file.write(cipher.encrypt(chunk))\n",
    "\n",
    "def decrypt(in_file, out_file, password, key_length=32):\n",
    "    bs = AES.block_size\n",
    "    salt = in_file.read(bs)\n",
    "    key, iv = derive_key_and_iv(password, salt, key_length, bs)\n",
    "    cipher = AES.new(key, AES.MODE_CBC, iv)\n",
    "    next_chunk = ''\n",
    "    finished = False\n",
    "    while not finished:\n",
    "        chunk, next_chunk = next_chunk, cipher.decrypt(in_file.read(1024 * bs))\n",
    "        if len(next_chunk) == 0:\n",
    "            padding_length = chunk[-1]\n",
    "            chunk = chunk[:-padding_length]\n",
    "            finished = True \n",
    "        out_file.write(bytes(x for x in chunk)) \n",
    "\n",
    "\n",
    "password = '12345' #shouldn't be something this simple\n",
    "\n",
    "#with open('TestFiles/compressed_data.tsx', 'rb') as in_file, open('TestFiles/encrypted.tsx', 'wb') as out_file:\n",
    "    #encrypt(in_file, out_file, password)\n",
    "\n",
    "# with open('TestFiles/encrypted.tsx', 'rb') as in_file, open('TestFiles/decrypted.tsx', 'wb') as out_file:\n",
    "    #decrypt(in_file, out_file, password)"
   ]
  },
  {
   "cell_type": "markdown",
   "metadata": {},
   "source": [
    "Link for the encryption and decryption algorithm "
   ]
  },
  {
   "cell_type": "markdown",
   "metadata": {},
   "source": [
    "https://devrescue.com/python-encrypt-file-with-aes/"
   ]
  },
  {
   "cell_type": "markdown",
   "metadata": {},
   "source": [
    "## Encrypting the Data "
   ]
  },
  {
   "cell_type": "code",
   "execution_count": 2,
   "metadata": {},
   "outputs": [],
   "source": [
    "with open('puttyData/outcompressed.txt', 'rb') as in_file, open('puttyData/compressed-encrypted.txt', 'wb') as out_file:\n",
    "    encrypt(in_file, out_file, password)"
   ]
  },
  {
   "cell_type": "markdown",
   "metadata": {},
   "source": [
    "## Decrypting the Data "
   ]
  },
  {
   "cell_type": "code",
   "execution_count": 3,
   "metadata": {},
   "outputs": [],
   "source": [
    "with open('puttyData/compressed-encrypted.txt', 'rb') as in_file, open('puttyData/Decrypted.txt', 'wb') as out_file:\n",
    "    decrypt(in_file, out_file, password)"
   ]
  },
  {
   "cell_type": "markdown",
   "metadata": {},
   "source": [
    "## Comparing the Initial and Encryped Files "
   ]
  },
  {
   "cell_type": "code",
   "execution_count": 2,
   "metadata": {},
   "outputs": [
    {
     "data": {
      "text/plain": [
       "False"
      ]
     },
     "execution_count": 2,
     "metadata": {},
     "output_type": "execute_result"
    }
   ],
   "source": [
    ">>> import filecmp\n",
    ">>> filecmp.cmp('puttyData/gyroDataY.txt', 'puttyData/encrypted.txt')"
   ]
  }
 ],
 "metadata": {
  "kernelspec": {
   "display_name": "Python 3",
   "language": "python",
   "name": "python3"
  },
  "language_info": {
   "codemirror_mode": {
    "name": "ipython",
    "version": 3
   },
   "file_extension": ".py",
   "mimetype": "text/x-python",
   "name": "python",
   "nbconvert_exporter": "python",
   "pygments_lexer": "ipython3",
   "version": "3.7.6"
  }
 },
 "nbformat": 4,
 "nbformat_minor": 4
}
